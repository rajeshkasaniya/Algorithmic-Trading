{
 "cells": [
  {
   "cell_type": "code",
   "execution_count": 1,
   "id": "4d26aebc",
   "metadata": {},
   "outputs": [],
   "source": [
    "from bs4 import BeautifulSoup as bs\n",
    "import requests\n",
    "import pandas as pd\n",
    "import yfinance as yf"
   ]
  },
  {
   "cell_type": "code",
   "execution_count": 2,
   "id": "51312a6c",
   "metadata": {},
   "outputs": [
    {
     "data": {
      "text/plain": [
       "<Response [200]>"
      ]
     },
     "execution_count": 2,
     "metadata": {},
     "output_type": "execute_result"
    }
   ],
   "source": [
    "url = \"https://en.wikipedia.org/wiki/NIFTY_50\"\n",
    "response = requests.get(url)\n",
    "response"
   ]
  },
  {
   "cell_type": "code",
   "execution_count": 3,
   "id": "5ae44901",
   "metadata": {},
   "outputs": [],
   "source": [
    "soup = bs(response.text, 'html.parser')"
   ]
  },
  {
   "cell_type": "code",
   "execution_count": 4,
   "id": "c9c6bb1e",
   "metadata": {},
   "outputs": [],
   "source": [
    "table = str(soup.find_all(id=\"constituents\")[1])"
   ]
  },
  {
   "cell_type": "code",
   "execution_count": 5,
   "id": "1ebf3f9d",
   "metadata": {},
   "outputs": [],
   "source": [
    "table1 = table.split(\"<tr>\\n\")[2:]"
   ]
  },
  {
   "cell_type": "code",
   "execution_count": 6,
   "id": "b17f20a7",
   "metadata": {},
   "outputs": [
    {
     "name": "stdout",
     "output_type": "stream",
     "text": [
      "['SATYAMCOMP', 'ABB', 'IDEA', 'UNITECH', 'SUZLON', 'RELCAPITAL', 'RCOM', 'RPOWER', 'SAIL', 'STERLITE', 'SIEMENS', 'WIPRO', 'RELINFRA', 'JPASSOCIAT', 'RANBAXY', 'MCDOWELL-N', 'DLF', 'JINDALSTEL', 'IDFC', 'NMDC', 'CAIRN', 'PNB', 'VEDL', 'BHEL', 'IDEA', 'GRASIM', 'ACC', 'BANKBARODA', 'TATAPOWER', 'AMBUJACEM', 'AUROPHARMA', 'BOSCHLTD', 'LUPIN', 'HINDPETRO', 'IBULHSGFIN', 'YESBANK', 'VEDL', 'ZEEL', 'INFRATEL', 'GAIL', 'IOC']\n"
     ]
    }
   ],
   "source": [
    "lst = []\n",
    "for i in range(len(table1)):\n",
    "    name = table1[i].split('\\n<td>')[1].split(\"\\n\")[0]\n",
    "    lst.append(name)\n",
    "print(lst)"
   ]
  },
  {
   "cell_type": "code",
   "execution_count": 7,
   "id": "c97d31c5",
   "metadata": {},
   "outputs": [],
   "source": [
    "nf50 = str(soup.find_all(id=\"constituents\")[0])"
   ]
  },
  {
   "cell_type": "code",
   "execution_count": 8,
   "id": "b67e8c27",
   "metadata": {},
   "outputs": [],
   "source": [
    "nf50_ = nf50.split(\"<tr>\\n\")[2:]"
   ]
  },
  {
   "cell_type": "code",
   "execution_count": 9,
   "id": "02b76df0",
   "metadata": {},
   "outputs": [],
   "source": [
    "for i in range(len(nf50_)):\n",
    "    name = nf50_[i].split('\\n<td>')[1].split(\"</td>\")[0]\n",
    "    lst.append(name)"
   ]
  },
  {
   "cell_type": "code",
   "execution_count": 10,
   "id": "ee360500",
   "metadata": {},
   "outputs": [
    {
     "data": {
      "text/plain": [
       "91"
      ]
     },
     "execution_count": 10,
     "metadata": {},
     "output_type": "execute_result"
    }
   ],
   "source": [
    "len(lst)"
   ]
  },
  {
   "cell_type": "code",
   "execution_count": 11,
   "id": "4f510b33",
   "metadata": {},
   "outputs": [],
   "source": [
    "final_lst = list(set(lst))"
   ]
  },
  {
   "cell_type": "code",
   "execution_count": 12,
   "id": "82ad86ff",
   "metadata": {},
   "outputs": [
    {
     "data": {
      "text/plain": [
       "87"
      ]
     },
     "execution_count": 12,
     "metadata": {},
     "output_type": "execute_result"
    }
   ],
   "source": [
    "len(final_lst)"
   ]
  },
  {
   "cell_type": "code",
   "execution_count": 13,
   "id": "6ed59805",
   "metadata": {},
   "outputs": [
    {
     "name": "stdout",
     "output_type": "stream",
     "text": [
      "['BOSCHLTD', 'INFY', 'HDFC', 'YESBANK', 'COALINDIA', 'IDEA', 'ICICIBANK', 'JSWSTEEL', 'SUNPHARMA', 'INFRATEL', 'VEDL', 'TATASTEEL', 'BHEL', 'UNITECH', 'DLF', 'POWERGRID', 'BHARTIARTL', 'ABB', 'HEROMOTOCO', 'RELINFRA', 'NESTLEIND', 'BPCL', 'TCS', 'SBILIFE', 'IOC', 'HDFCBANK', 'RPOWER', 'MCDOWELL-N', 'TITAN', 'SAIL', 'JPASSOCIAT', 'AUROPHARMA', 'PNB', 'WIPRO', 'RANBAXY', 'SHREECEM', 'ZEEL', 'STERLITE', 'SUZLON', 'APOLLOHOSP', 'MARUTI', 'GAIL', 'ACC', 'SBIN', 'JINDALSTEL', 'IDFC', 'TATACONSUM', 'RCOM', 'HINDPETRO', 'BAJAJFINSV', 'BANKBARODA', 'DIVISLAB', 'NTPC', 'EICHERMOT', 'ULTRACEMCO', 'ONGC', 'DRREDDY', 'NMDC', 'AXISBANK', 'HINDUNILVR', 'LT', 'ADANIPORTS', 'LUPIN', 'ITC', 'TECHM', 'HCLTECH', 'TATAMOTORS', 'GRASIM', 'TATAPOWER', 'SATYAMCOMP', 'BAJAJ-AUTO', 'KOTAKBANK', 'UPL', 'RELIANCE', 'CAIRN', 'ASIANPAINT', 'AMBUJACEM', 'M&amp;M', 'INDUSINDBK', 'CIPLA', 'BAJFINANCE', 'SIEMENS', 'HINDALCO', 'HDFCLIFE', 'RELCAPITAL', 'BRITANNIA', 'IBULHSGFIN']\n"
     ]
    }
   ],
   "source": [
    "print(final_lst)"
   ]
  },
  {
   "cell_type": "code",
   "execution_count": 14,
   "id": "5729d19f",
   "metadata": {},
   "outputs": [
    {
     "data": {
      "text/html": [
       "<div>\n",
       "<style scoped>\n",
       "    .dataframe tbody tr th:only-of-type {\n",
       "        vertical-align: middle;\n",
       "    }\n",
       "\n",
       "    .dataframe tbody tr th {\n",
       "        vertical-align: top;\n",
       "    }\n",
       "\n",
       "    .dataframe thead th {\n",
       "        text-align: right;\n",
       "    }\n",
       "</style>\n",
       "<table border=\"1\" class=\"dataframe\">\n",
       "  <thead>\n",
       "    <tr style=\"text-align: right;\">\n",
       "      <th></th>\n",
       "      <th>Name</th>\n",
       "    </tr>\n",
       "  </thead>\n",
       "  <tbody>\n",
       "    <tr>\n",
       "      <th>0</th>\n",
       "      <td>BOSCHLTD</td>\n",
       "    </tr>\n",
       "    <tr>\n",
       "      <th>1</th>\n",
       "      <td>INFY</td>\n",
       "    </tr>\n",
       "    <tr>\n",
       "      <th>2</th>\n",
       "      <td>HDFC</td>\n",
       "    </tr>\n",
       "    <tr>\n",
       "      <th>3</th>\n",
       "      <td>YESBANK</td>\n",
       "    </tr>\n",
       "    <tr>\n",
       "      <th>4</th>\n",
       "      <td>COALINDIA</td>\n",
       "    </tr>\n",
       "    <tr>\n",
       "      <th>...</th>\n",
       "      <td>...</td>\n",
       "    </tr>\n",
       "    <tr>\n",
       "      <th>82</th>\n",
       "      <td>HINDALCO</td>\n",
       "    </tr>\n",
       "    <tr>\n",
       "      <th>83</th>\n",
       "      <td>HDFCLIFE</td>\n",
       "    </tr>\n",
       "    <tr>\n",
       "      <th>84</th>\n",
       "      <td>RELCAPITAL</td>\n",
       "    </tr>\n",
       "    <tr>\n",
       "      <th>85</th>\n",
       "      <td>BRITANNIA</td>\n",
       "    </tr>\n",
       "    <tr>\n",
       "      <th>86</th>\n",
       "      <td>IBULHSGFIN</td>\n",
       "    </tr>\n",
       "  </tbody>\n",
       "</table>\n",
       "<p>87 rows × 1 columns</p>\n",
       "</div>"
      ],
      "text/plain": [
       "          Name\n",
       "0     BOSCHLTD\n",
       "1         INFY\n",
       "2         HDFC\n",
       "3      YESBANK\n",
       "4    COALINDIA\n",
       "..         ...\n",
       "82    HINDALCO\n",
       "83    HDFCLIFE\n",
       "84  RELCAPITAL\n",
       "85   BRITANNIA\n",
       "86  IBULHSGFIN\n",
       "\n",
       "[87 rows x 1 columns]"
      ]
     },
     "execution_count": 14,
     "metadata": {},
     "output_type": "execute_result"
    }
   ],
   "source": [
    "nifty50 = pd.DataFrame(final_lst, columns=['Name'])\n",
    "nifty50"
   ]
  },
  {
   "cell_type": "code",
   "execution_count": 15,
   "id": "6c9c7a72",
   "metadata": {},
   "outputs": [],
   "source": [
    "nifty50.to_csv(\"nifty50.csv\", index=False)"
   ]
  },
  {
   "cell_type": "code",
   "execution_count": null,
   "id": "bc866325",
   "metadata": {},
   "outputs": [],
   "source": []
  },
  {
   "cell_type": "code",
   "execution_count": 16,
   "id": "d7c389b1",
   "metadata": {
    "scrolled": true
   },
   "outputs": [
    {
     "name": "stdout",
     "output_type": "stream",
     "text": [
      "[*********************100%***********************]  1 of 1 completed\n",
      "[*********************100%***********************]  1 of 1 completed\n",
      "[*********************100%***********************]  1 of 1 completed\n",
      "[*********************100%***********************]  1 of 1 completed\n",
      "[*********************100%***********************]  1 of 1 completed\n",
      "[*********************100%***********************]  1 of 1 completed\n",
      "[*********************100%***********************]  1 of 1 completed\n",
      "[*********************100%***********************]  1 of 1 completed\n",
      "[*********************100%***********************]  1 of 1 completed\n",
      "[*********************100%***********************]  1 of 1 completed\n",
      "\n",
      "1 Failed download:\n",
      "- INFRATEL.NS: No data found, symbol may be delisted\n",
      "[*********************100%***********************]  1 of 1 completed\n",
      "[*********************100%***********************]  1 of 1 completed\n",
      "[*********************100%***********************]  1 of 1 completed\n",
      "[*********************100%***********************]  1 of 1 completed\n",
      "[*********************100%***********************]  1 of 1 completed\n",
      "[*********************100%***********************]  1 of 1 completed\n",
      "[*********************100%***********************]  1 of 1 completed\n",
      "[*********************100%***********************]  1 of 1 completed\n",
      "[*********************100%***********************]  1 of 1 completed\n",
      "[*********************100%***********************]  1 of 1 completed\n",
      "[*********************100%***********************]  1 of 1 completed\n",
      "[*********************100%***********************]  1 of 1 completed\n",
      "[*********************100%***********************]  1 of 1 completed\n",
      "[*********************100%***********************]  1 of 1 completed\n",
      "[*********************100%***********************]  1 of 1 completed\n",
      "[*********************100%***********************]  1 of 1 completed\n",
      "[*********************100%***********************]  1 of 1 completed\n",
      "[*********************100%***********************]  1 of 1 completed\n",
      "[*********************100%***********************]  1 of 1 completed\n",
      "[*********************100%***********************]  1 of 1 completed\n",
      "[*********************100%***********************]  1 of 1 completed\n",
      "[*********************100%***********************]  1 of 1 completed\n",
      "[*********************100%***********************]  1 of 1 completed\n",
      "[*********************100%***********************]  1 of 1 completed\n",
      "[*********************100%***********************]  1 of 1 completed\n",
      "\n",
      "1 Failed download:\n",
      "- RANBAXY.NS: No data found for this date range, symbol may be delisted\n",
      "[*********************100%***********************]  1 of 1 completed\n",
      "[*********************100%***********************]  1 of 1 completed\n",
      "[*********************100%***********************]  1 of 1 completed\n",
      "\n",
      "1 Failed download:\n",
      "- STERLITE.NS: No data found, symbol may be delisted\n",
      "[*********************100%***********************]  1 of 1 completed\n",
      "[*********************100%***********************]  1 of 1 completed\n",
      "[*********************100%***********************]  1 of 1 completed\n",
      "[*********************100%***********************]  1 of 1 completed\n",
      "[*********************100%***********************]  1 of 1 completed\n",
      "[*********************100%***********************]  1 of 1 completed\n",
      "[*********************100%***********************]  1 of 1 completed\n",
      "[*********************100%***********************]  1 of 1 completed\n",
      "[*********************100%***********************]  1 of 1 completed\n",
      "[*********************100%***********************]  1 of 1 completed\n",
      "[*********************100%***********************]  1 of 1 completed\n",
      "[*********************100%***********************]  1 of 1 completed\n",
      "[*********************100%***********************]  1 of 1 completed\n",
      "[*********************100%***********************]  1 of 1 completed\n",
      "[*********************100%***********************]  1 of 1 completed\n",
      "[*********************100%***********************]  1 of 1 completed\n",
      "[*********************100%***********************]  1 of 1 completed\n",
      "[*********************100%***********************]  1 of 1 completed\n",
      "[*********************100%***********************]  1 of 1 completed\n",
      "[*********************100%***********************]  1 of 1 completed\n",
      "[*********************100%***********************]  1 of 1 completed\n",
      "[*********************100%***********************]  1 of 1 completed\n",
      "[*********************100%***********************]  1 of 1 completed\n",
      "[*********************100%***********************]  1 of 1 completed\n",
      "[*********************100%***********************]  1 of 1 completed\n",
      "[*********************100%***********************]  1 of 1 completed\n",
      "[*********************100%***********************]  1 of 1 completed\n",
      "[*********************100%***********************]  1 of 1 completed\n",
      "[*********************100%***********************]  1 of 1 completed\n",
      "[*********************100%***********************]  1 of 1 completed\n",
      "[*********************100%***********************]  1 of 1 completed\n",
      "[*********************100%***********************]  1 of 1 completed\n",
      "\n",
      "1 Failed download:\n",
      "- SATYAMCOMP.NS: No data found, symbol may be delisted\n",
      "[*********************100%***********************]  1 of 1 completed\n",
      "[*********************100%***********************]  1 of 1 completed\n",
      "[*********************100%***********************]  1 of 1 completed\n",
      "[*********************100%***********************]  1 of 1 completed\n",
      "[*********************100%***********************]  1 of 1 completed\n",
      "\n",
      "1 Failed download:\n",
      "- CAIRN.NS: No data found for this date range, symbol may be delisted\n",
      "[*********************100%***********************]  1 of 1 completed\n",
      "[*********************100%***********************]  1 of 1 completed\n",
      "[*********************100%***********************]  1 of 1 completed\n",
      "\n",
      "1 Failed download:\n",
      "- M&AMP;M.NS: No data found, symbol may be delisted\n",
      "[*********************100%***********************]  1 of 1 completed\n",
      "[*********************100%***********************]  1 of 1 completed\n",
      "[*********************100%***********************]  1 of 1 completed\n",
      "[*********************100%***********************]  1 of 1 completed\n",
      "[*********************100%***********************]  1 of 1 completed\n",
      "[*********************100%***********************]  1 of 1 completed\n",
      "[*********************100%***********************]  1 of 1 completed\n",
      "[*********************100%***********************]  1 of 1 completed\n",
      "[*********************100%***********************]  1 of 1 completed\n"
     ]
    }
   ],
   "source": [
    "writer2 = pd.ExcelWriter('stocks_data.xlsx')\n",
    "\n",
    "for i in range(len(final_lst)):\n",
    "    data = yf.download(\"\".join([final_lst[i], \".NS\"]), start=\"2008-01-01\", end=\"2022-07-01\", interval=\"1wk\")\n",
    "    if len(data) > 1:\n",
    "        data.to_excel(writer2, sheet_name = final_lst[i])\n",
    "\n",
    "\n",
    "writer2.save()"
   ]
  },
  {
   "cell_type": "code",
   "execution_count": null,
   "id": "b7ffec3c",
   "metadata": {},
   "outputs": [],
   "source": []
  }
 ],
 "metadata": {
  "kernelspec": {
   "display_name": "Python 3 (ipykernel)",
   "language": "python",
   "name": "python3"
  },
  "language_info": {
   "codemirror_mode": {
    "name": "ipython",
    "version": 3
   },
   "file_extension": ".py",
   "mimetype": "text/x-python",
   "name": "python",
   "nbconvert_exporter": "python",
   "pygments_lexer": "ipython3",
   "version": "3.9.12"
  }
 },
 "nbformat": 4,
 "nbformat_minor": 5
}
