{
 "cells": [
  {
   "cell_type": "code",
   "execution_count": 2,
   "id": "48acb303",
   "metadata": {},
   "outputs": [],
   "source": [
    "import pandas as pd\n",
    "import yfinance as yf"
   ]
  },
  {
   "cell_type": "code",
   "execution_count": 21,
   "id": "adce2977",
   "metadata": {},
   "outputs": [
    {
     "name": "stdout",
     "output_type": "stream",
     "text": [
      "[*********************100%***********************]  1 of 1 completed\n"
     ]
    }
   ],
   "source": [
    "## Daily Nifty 50 data for last 5 Years\n",
    "\n",
    "data = yf.download(\"^NSEI\", start=\"2008-01-01\", end=\"2022-07-01\")\n",
    "nifty_data = pd.DataFrame(data[\"Adj Close\"])\n",
    "nifty_data.rename(columns = {'Adj Close':'Nifty50'}, inplace = True)\n",
    "nifty_data.to_csv(\"Daily_nifty_data.csv\")"
   ]
  },
  {
   "cell_type": "code",
   "execution_count": 22,
   "id": "abeb4b5d",
   "metadata": {},
   "outputs": [],
   "source": [
    "data.drop(['Close', 'Volume'], axis=1, inplace=True)"
   ]
  },
  {
   "cell_type": "code",
   "execution_count": 23,
   "id": "1a261c55",
   "metadata": {},
   "outputs": [],
   "source": [
    "nifty_ohlc = pd.DataFrame(data)\n",
    "nifty_ohlc.rename(columns = {'Adj Close':'Close'}, inplace = True)\n",
    "nifty_ohlc.to_csv(\"Nifty_ohlc.csv\")"
   ]
  },
  {
   "cell_type": "code",
   "execution_count": null,
   "id": "c614df5d",
   "metadata": {},
   "outputs": [],
   "source": []
  }
 ],
 "metadata": {
  "kernelspec": {
   "display_name": "Python 3 (ipykernel)",
   "language": "python",
   "name": "python3"
  },
  "language_info": {
   "codemirror_mode": {
    "name": "ipython",
    "version": 3
   },
   "file_extension": ".py",
   "mimetype": "text/x-python",
   "name": "python",
   "nbconvert_exporter": "python",
   "pygments_lexer": "ipython3",
   "version": "3.9.12"
  }
 },
 "nbformat": 4,
 "nbformat_minor": 5
}
